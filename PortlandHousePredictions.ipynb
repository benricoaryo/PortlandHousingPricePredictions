{
 "cells": [
  {
   "cell_type": "markdown",
   "metadata": {},
   "source": [
    "### Importing Modules"
   ]
  },
  {
   "cell_type": "code",
   "execution_count": 1,
   "metadata": {},
   "outputs": [],
   "source": [
    "import numpy as np\n",
    "import pandas as pd\n",
    "import matplotlib.pyplot as plt\n",
    "import seaborn as sns\n",
    "%matplotlib inline"
   ]
  },
  {
   "cell_type": "markdown",
   "metadata": {},
   "source": [
    "### Importing CSV"
   ]
  },
  {
   "cell_type": "code",
   "execution_count": 2,
   "metadata": {},
   "outputs": [
    {
     "name": "stderr",
     "output_type": "stream",
     "text": [
      "C:\\Users\\Bimo\\anaconda3\\lib\\site-packages\\IPython\\core\\interactiveshell.py:3146: DtypeWarning: Columns (31) have mixed types.Specify dtype option on import or set low_memory=False.\n",
      "  has_raised = await self.run_ast_nodes(code_ast.body, cell_name,\n"
     ]
    }
   ],
   "source": [
    "df = pd.read_csv(\"portland_housing_clean.csv\")"
   ]
  },
  {
   "cell_type": "code",
   "execution_count": 3,
   "metadata": {},
   "outputs": [
    {
     "data": {
      "text/html": [
       "<div>\n",
       "<style scoped>\n",
       "    .dataframe tbody tr th:only-of-type {\n",
       "        vertical-align: middle;\n",
       "    }\n",
       "\n",
       "    .dataframe tbody tr th {\n",
       "        vertical-align: top;\n",
       "    }\n",
       "\n",
       "    .dataframe thead th {\n",
       "        text-align: right;\n",
       "    }\n",
       "</style>\n",
       "<table border=\"1\" class=\"dataframe\">\n",
       "  <thead>\n",
       "    <tr style=\"text-align: right;\">\n",
       "      <th></th>\n",
       "      <th>Unnamed: 0</th>\n",
       "      <th>abbreviatedAddress</th>\n",
       "      <th>address/city</th>\n",
       "      <th>address/zipcode</th>\n",
       "      <th>bathrooms</th>\n",
       "      <th>bedrooms</th>\n",
       "      <th>brokerageName</th>\n",
       "      <th>daysOnZillow</th>\n",
       "      <th>description</th>\n",
       "      <th>homeStatus</th>\n",
       "      <th>...</th>\n",
       "      <th>hasSpa</th>\n",
       "      <th>hasView</th>\n",
       "      <th>interiorFeatures</th>\n",
       "      <th>otherFeatures</th>\n",
       "      <th>roomArea</th>\n",
       "      <th>avgSchoolsDistance</th>\n",
       "      <th>avgSchoolsRating</th>\n",
       "      <th>avgSchoolsSize</th>\n",
       "      <th>avgStudentsPerTeacher</th>\n",
       "      <th>totalSchools</th>\n",
       "    </tr>\n",
       "  </thead>\n",
       "  <tbody>\n",
       "    <tr>\n",
       "      <th>0</th>\n",
       "      <td>0</td>\n",
       "      <td>2860 NE Blossom Hill Rd</td>\n",
       "      <td>Fairview</td>\n",
       "      <td>97024</td>\n",
       "      <td>3.0</td>\n",
       "      <td>3.0</td>\n",
       "      <td>NaN</td>\n",
       "      <td>25.0</td>\n",
       "      <td>2860 NE Blossom Hill Rd, Fairview, OR 97024 is...</td>\n",
       "      <td>RECENTLY_SOLD</td>\n",
       "      <td>...</td>\n",
       "      <td>False</td>\n",
       "      <td>False</td>\n",
       "      <td>0</td>\n",
       "      <td>1</td>\n",
       "      <td>0.0</td>\n",
       "      <td>1.366667</td>\n",
       "      <td>3.333333</td>\n",
       "      <td>1333.666667</td>\n",
       "      <td>24.333333</td>\n",
       "      <td>3.0</td>\n",
       "    </tr>\n",
       "    <tr>\n",
       "      <th>1</th>\n",
       "      <td>1</td>\n",
       "      <td>20386 NE Mackenzie Ln</td>\n",
       "      <td>Fairview</td>\n",
       "      <td>97024</td>\n",
       "      <td>3.0</td>\n",
       "      <td>3.0</td>\n",
       "      <td>Harcourts Real Estate Network Group</td>\n",
       "      <td>53.0</td>\n",
       "      <td>Cute as a button 3bed/2.5bath home with brand ...</td>\n",
       "      <td>RECENTLY_SOLD</td>\n",
       "      <td>...</td>\n",
       "      <td>False</td>\n",
       "      <td>True</td>\n",
       "      <td>4</td>\n",
       "      <td>5</td>\n",
       "      <td>729.0</td>\n",
       "      <td>1.866667</td>\n",
       "      <td>3.333333</td>\n",
       "      <td>1333.666667</td>\n",
       "      <td>24.333333</td>\n",
       "      <td>3.0</td>\n",
       "    </tr>\n",
       "    <tr>\n",
       "      <th>2</th>\n",
       "      <td>2</td>\n",
       "      <td>1121 SW 10th Dr</td>\n",
       "      <td>Gresham</td>\n",
       "      <td>97080</td>\n",
       "      <td>3.0</td>\n",
       "      <td>4.0</td>\n",
       "      <td>ERA Freeman &amp; Associates</td>\n",
       "      <td>11.0</td>\n",
       "      <td>What a wonderful large home at end of quiet cu...</td>\n",
       "      <td>RECENTLY_SOLD</td>\n",
       "      <td>...</td>\n",
       "      <td>True</td>\n",
       "      <td>True</td>\n",
       "      <td>5</td>\n",
       "      <td>7</td>\n",
       "      <td>892.0</td>\n",
       "      <td>1.300000</td>\n",
       "      <td>4.666667</td>\n",
       "      <td>783.666667</td>\n",
       "      <td>20.000000</td>\n",
       "      <td>3.0</td>\n",
       "    </tr>\n",
       "    <tr>\n",
       "      <th>3</th>\n",
       "      <td>3</td>\n",
       "      <td>19309 NE Glisan St</td>\n",
       "      <td>Portland</td>\n",
       "      <td>97230</td>\n",
       "      <td>1.0</td>\n",
       "      <td>3.0</td>\n",
       "      <td>Premiere Property Group, LLC</td>\n",
       "      <td>11.0</td>\n",
       "      <td>NaN</td>\n",
       "      <td>RECENTLY_SOLD</td>\n",
       "      <td>...</td>\n",
       "      <td>False</td>\n",
       "      <td>False</td>\n",
       "      <td>1</td>\n",
       "      <td>3</td>\n",
       "      <td>634.0</td>\n",
       "      <td>1.766667</td>\n",
       "      <td>2.333333</td>\n",
       "      <td>1360.000000</td>\n",
       "      <td>24.000000</td>\n",
       "      <td>3.0</td>\n",
       "    </tr>\n",
       "    <tr>\n",
       "      <th>4</th>\n",
       "      <td>4</td>\n",
       "      <td>25-65 NW 20th St</td>\n",
       "      <td>Gresham</td>\n",
       "      <td>97030</td>\n",
       "      <td>3.0</td>\n",
       "      <td>6.0</td>\n",
       "      <td>NaN</td>\n",
       "      <td>14.0</td>\n",
       "      <td>25-65 NW 20th St, Gresham, OR 97030 is a apart...</td>\n",
       "      <td>RECENTLY_SOLD</td>\n",
       "      <td>...</td>\n",
       "      <td>False</td>\n",
       "      <td>False</td>\n",
       "      <td>0</td>\n",
       "      <td>0</td>\n",
       "      <td>0.0</td>\n",
       "      <td>0.500000</td>\n",
       "      <td>3.666667</td>\n",
       "      <td>891.000000</td>\n",
       "      <td>22.000000</td>\n",
       "      <td>3.0</td>\n",
       "    </tr>\n",
       "  </tbody>\n",
       "</table>\n",
       "<p>5 rows × 47 columns</p>\n",
       "</div>"
      ],
      "text/plain": [
       "   Unnamed: 0       abbreviatedAddress address/city  address/zipcode  \\\n",
       "0           0  2860 NE Blossom Hill Rd     Fairview            97024   \n",
       "1           1    20386 NE Mackenzie Ln     Fairview            97024   \n",
       "2           2          1121 SW 10th Dr      Gresham            97080   \n",
       "3           3       19309 NE Glisan St     Portland            97230   \n",
       "4           4         25-65 NW 20th St      Gresham            97030   \n",
       "\n",
       "   bathrooms  bedrooms                        brokerageName  daysOnZillow  \\\n",
       "0        3.0       3.0                                  NaN          25.0   \n",
       "1        3.0       3.0  Harcourts Real Estate Network Group          53.0   \n",
       "2        3.0       4.0             ERA Freeman & Associates          11.0   \n",
       "3        1.0       3.0         Premiere Property Group, LLC          11.0   \n",
       "4        3.0       6.0                                  NaN          14.0   \n",
       "\n",
       "                                         description     homeStatus  ...  \\\n",
       "0  2860 NE Blossom Hill Rd, Fairview, OR 97024 is...  RECENTLY_SOLD  ...   \n",
       "1  Cute as a button 3bed/2.5bath home with brand ...  RECENTLY_SOLD  ...   \n",
       "2  What a wonderful large home at end of quiet cu...  RECENTLY_SOLD  ...   \n",
       "3                                                NaN  RECENTLY_SOLD  ...   \n",
       "4  25-65 NW 20th St, Gresham, OR 97030 is a apart...  RECENTLY_SOLD  ...   \n",
       "\n",
       "  hasSpa  hasView  interiorFeatures  otherFeatures  roomArea  \\\n",
       "0  False    False                 0              1       0.0   \n",
       "1  False     True                 4              5     729.0   \n",
       "2   True     True                 5              7     892.0   \n",
       "3  False    False                 1              3     634.0   \n",
       "4  False    False                 0              0       0.0   \n",
       "\n",
       "   avgSchoolsDistance  avgSchoolsRating  avgSchoolsSize  \\\n",
       "0            1.366667          3.333333     1333.666667   \n",
       "1            1.866667          3.333333     1333.666667   \n",
       "2            1.300000          4.666667      783.666667   \n",
       "3            1.766667          2.333333     1360.000000   \n",
       "4            0.500000          3.666667      891.000000   \n",
       "\n",
       "   avgStudentsPerTeacher totalSchools  \n",
       "0              24.333333          3.0  \n",
       "1              24.333333          3.0  \n",
       "2              20.000000          3.0  \n",
       "3              24.000000          3.0  \n",
       "4              22.000000          3.0  \n",
       "\n",
       "[5 rows x 47 columns]"
      ]
     },
     "execution_count": 3,
     "metadata": {},
     "output_type": "execute_result"
    }
   ],
   "source": [
    "df.head()"
   ]
  },
  {
   "cell_type": "code",
   "execution_count": 4,
   "metadata": {},
   "outputs": [],
   "source": [
    "df = df.rename(columns={'abbreviatedAddress':'address',\n",
    "                        'address/city':'city',\n",
    "                        'address/zipcode':'zipcode',\n",
    "                        'priceHistory/0/postingIsRental':'postingIsRental',\n",
    "                        'priceHistory/0/pricePerSquareFoot':'pricePerSquareFoot',\n",
    "                        'resoFacts/isNewConstruction':'isNewConstruction',\n",
    "                        'resoFacts/parking':'parking'})"
   ]
  },
  {
   "cell_type": "code",
   "execution_count": 5,
   "metadata": {},
   "outputs": [
    {
     "data": {
      "text/plain": [
       "Unnamed: 0                           0\n",
       "address                              0\n",
       "city                                 0\n",
       "zipcode                              0\n",
       "bathrooms                          484\n",
       "bedrooms                           770\n",
       "brokerageName                     4369\n",
       "daysOnZillow                         6\n",
       "description                        118\n",
       "homeStatus                           0\n",
       "homeType                             0\n",
       "lastSoldPrice                        0\n",
       "latitude                            13\n",
       "livingArea                         465\n",
       "longitude                           13\n",
       "lotSize                           2890\n",
       "price                                0\n",
       "postingIsRental                      0\n",
       "pricePerSquareFoot                 514\n",
       "rentalApplicationsAcceptedType       0\n",
       "isNewConstruction                 4356\n",
       "parking                              0\n",
       "taxAssessedValue                  1394\n",
       "yearBuilt                          546\n",
       "roomFeatures                         0\n",
       "fencing                              0\n",
       "basement                             0\n",
       "carport                              0\n",
       "furnished                            0\n",
       "hasCooling                           0\n",
       "hasGarage                            0\n",
       "hasHeating                           0\n",
       "hasHomeWarranty                      0\n",
       "hasLandLease                         0\n",
       "hasOpenParking                       0\n",
       "hasPetsAllowed                       0\n",
       "hasFireplace                         0\n",
       "hasSpa                               0\n",
       "hasView                              0\n",
       "interiorFeatures                     0\n",
       "otherFeatures                        0\n",
       "roomArea                             0\n",
       "avgSchoolsDistance                   0\n",
       "avgSchoolsRating                     0\n",
       "avgSchoolsSize                       0\n",
       "avgStudentsPerTeacher                0\n",
       "totalSchools                         0\n",
       "dtype: int64"
      ]
     },
     "execution_count": 5,
     "metadata": {},
     "output_type": "execute_result"
    }
   ],
   "source": [
    "df.isnull().sum()"
   ]
  },
  {
   "cell_type": "markdown",
   "metadata": {},
   "source": [
    "### Filling Null Values"
   ]
  },
  {
   "cell_type": "code",
   "execution_count": 6,
   "metadata": {},
   "outputs": [
    {
     "data": {
      "text/plain": [
       "3.0"
      ]
     },
     "execution_count": 6,
     "metadata": {},
     "output_type": "execute_result"
    }
   ],
   "source": [
    "# using median to fill in 'bathrooms' values\n",
    "df['bathrooms'].median()"
   ]
  },
  {
   "cell_type": "code",
   "execution_count": 7,
   "metadata": {},
   "outputs": [],
   "source": [
    "df['bathrooms'] = df['bathrooms'].fillna(df['bathrooms'].median())"
   ]
  },
  {
   "cell_type": "code",
   "execution_count": 8,
   "metadata": {},
   "outputs": [
    {
     "data": {
      "text/plain": [
       "3.0"
      ]
     },
     "execution_count": 8,
     "metadata": {},
     "output_type": "execute_result"
    }
   ],
   "source": [
    "# using median to fill in 'bedrooms' values\n",
    "df['bedrooms'].median()"
   ]
  },
  {
   "cell_type": "code",
   "execution_count": 9,
   "metadata": {},
   "outputs": [],
   "source": [
    "df['bedrooms'] = df['bedrooms'].fillna(df['bedrooms'].median())"
   ]
  },
  {
   "cell_type": "code",
   "execution_count": 10,
   "metadata": {},
   "outputs": [
    {
     "data": {
      "text/plain": [
       "1996.0"
      ]
     },
     "execution_count": 10,
     "metadata": {},
     "output_type": "execute_result"
    }
   ],
   "source": [
    "# using median to fill in 'livingArea' values\n",
    "df['livingArea'].median()"
   ]
  },
  {
   "cell_type": "code",
   "execution_count": 11,
   "metadata": {},
   "outputs": [],
   "source": [
    "df['livingArea'] = df['livingArea'].fillna(df['livingArea'].median())"
   ]
  },
  {
   "cell_type": "code",
   "execution_count": 12,
   "metadata": {},
   "outputs": [
    {
     "data": {
      "text/plain": [
       "6969.0"
      ]
     },
     "execution_count": 12,
     "metadata": {},
     "output_type": "execute_result"
    }
   ],
   "source": [
    "# using median to fill in 'lotSize' values\n",
    "df['lotSize'].median()"
   ]
  },
  {
   "cell_type": "code",
   "execution_count": 13,
   "metadata": {},
   "outputs": [],
   "source": [
    "df['lotSize'] = df['lotSize'].fillna(df['lotSize'].median())"
   ]
  },
  {
   "cell_type": "code",
   "execution_count": 14,
   "metadata": {},
   "outputs": [],
   "source": [
    "# drop all null values\n",
    "dataset = df.dropna()"
   ]
  },
  {
   "cell_type": "code",
   "execution_count": 15,
   "metadata": {},
   "outputs": [
    {
     "data": {
      "text/plain": [
       "(19902, 47)"
      ]
     },
     "execution_count": 15,
     "metadata": {},
     "output_type": "execute_result"
    }
   ],
   "source": [
    "dataset.shape"
   ]
  },
  {
   "cell_type": "code",
   "execution_count": 16,
   "metadata": {
    "scrolled": true
   },
   "outputs": [
    {
     "data": {
      "text/plain": [
       "Unnamed: 0                          int64\n",
       "address                            object\n",
       "city                               object\n",
       "zipcode                             int64\n",
       "bathrooms                         float64\n",
       "bedrooms                          float64\n",
       "brokerageName                      object\n",
       "daysOnZillow                      float64\n",
       "description                        object\n",
       "homeStatus                         object\n",
       "homeType                           object\n",
       "lastSoldPrice                       int64\n",
       "latitude                          float64\n",
       "livingArea                        float64\n",
       "longitude                         float64\n",
       "lotSize                           float64\n",
       "price                               int64\n",
       "postingIsRental                      bool\n",
       "pricePerSquareFoot                float64\n",
       "rentalApplicationsAcceptedType     object\n",
       "isNewConstruction                  object\n",
       "parking                             int64\n",
       "taxAssessedValue                  float64\n",
       "yearBuilt                         float64\n",
       "roomFeatures                        int64\n",
       "fencing                              bool\n",
       "basement                             bool\n",
       "carport                              bool\n",
       "furnished                            bool\n",
       "hasCooling                           bool\n",
       "hasGarage                            bool\n",
       "hasHeating                         object\n",
       "hasHomeWarranty                      bool\n",
       "hasLandLease                         bool\n",
       "hasOpenParking                       bool\n",
       "hasPetsAllowed                       bool\n",
       "hasFireplace                         bool\n",
       "hasSpa                               bool\n",
       "hasView                              bool\n",
       "interiorFeatures                    int64\n",
       "otherFeatures                       int64\n",
       "roomArea                          float64\n",
       "avgSchoolsDistance                float64\n",
       "avgSchoolsRating                  float64\n",
       "avgSchoolsSize                    float64\n",
       "avgStudentsPerTeacher             float64\n",
       "totalSchools                      float64\n",
       "dtype: object"
      ]
     },
     "execution_count": 16,
     "metadata": {},
     "output_type": "execute_result"
    }
   ],
   "source": [
    "dataset.dtypes"
   ]
  },
  {
   "cell_type": "markdown",
   "metadata": {},
   "source": [
    "### Data Visualization"
   ]
  },
  {
   "cell_type": "code",
   "execution_count": 17,
   "metadata": {},
   "outputs": [],
   "source": [
    "dataviz = dataset.copy()"
   ]
  },
  {
   "cell_type": "code",
   "execution_count": 18,
   "metadata": {},
   "outputs": [
    {
     "data": {
      "text/plain": [
       "Text(0.5, 1.0, 'Total bathrooms in each house')"
      ]
     },
     "execution_count": 18,
     "metadata": {},
     "output_type": "execute_result"
    },
    {
     "data": {
      "image/png": "[encoded data removed]",
      "text/plain": [
       "<Figure size 432x288 with 1 Axes>"
      ]
     },
     "metadata": {
      "needs_background": "light"
     },
     "output_type": "display_data"
    }
   ],
   "source": [
    "sns.countplot(x=dataviz['bathrooms'].round(),data=dataviz)\n",
    "plt.title('Total bathrooms in each house')"
   ]
  },
  {
   "cell_type": "code",
   "execution_count": 19,
   "metadata": {},
   "outputs": [
    {
     "data": {
      "text/plain": [
       "Text(0.5, 1.0, 'Total bedrooms in each house')"
      ]
     },
     "execution_count": 19,
     "metadata": {},
     "output_type": "execute_result"
    },
    {
     "data": {
      "image/png": "[encoded data removed]",
      "text/plain": [
       "<Figure size 432x288 with 1 Axes>"
      ]
     },
     "metadata": {
      "needs_background": "light"
     },
     "output_type": "display_data"
    }
   ],
   "source": [
    "sns.countplot(x=dataviz['bedrooms'].round(),data=dataviz)\n",
    "plt.title('Total bedrooms in each house')"
   ]
  },
  {
   "cell_type": "code",
   "execution_count": 20,
   "metadata": {},
   "outputs": [
    {
     "data": {
      "text/plain": [
       "Text(0.5, 1.0, 'Top 10 brokerage')"
      ]
     },
     "execution_count": 20,
     "metadata": {},
     "output_type": "execute_result"
    },
    {
     "data": {
      "image/png": "[encoded data removed]",
      "text/plain": [
       "<Figure size 432x288 with 1 Axes>"
      ]
     },
     "metadata": {
      "needs_background": "light"
     },
     "output_type": "display_data"
    }
   ],
   "source": [
    "sns.countplot(y='brokerageName',data=dataviz,order=pd.value_counts(dataviz['brokerageName']).iloc[:10].index)\n",
    "plt.title('Top 10 brokerage')"
   ]
  },
  {
   "cell_type": "code",
   "execution_count": 21,
   "metadata": {},
   "outputs": [
    {
     "data": {
      "text/plain": [
       "Text(0.5, 1.0, 'Home Status')"
      ]
     },
     "execution_count": 21,
     "metadata": {},
     "output_type": "execute_result"
    },
    {
     "data": {
      "image/png": "[encoded data removed]",
      "text/plain": [
       "<Figure size 432x288 with 1 Axes>"
      ]
     },
     "metadata": {
      "needs_background": "light"
     },
     "output_type": "display_data"
    }
   ],
   "source": [
    "sns.countplot(y='homeStatus',data=dataviz)\n",
    "plt.title('Home Status')"
   ]
  },
  {
   "cell_type": "code",
   "execution_count": 22,
   "metadata": {},
   "outputs": [
    {
     "data": {
      "text/plain": [
       "Text(0.5, 1.0, 'Type of home')"
      ]
     },
     "execution_count": 22,
     "metadata": {},
     "output_type": "execute_result"
    },
    {
     "data": {
      "image/png": "[encoded data removed]",
      "text/plain": [
       "<Figure size 432x288 with 1 Axes>"
      ]
     },
     "metadata": {
      "needs_background": "light"
     },
     "output_type": "display_data"
    }
   ],
   "source": [
    "sns.countplot(y='homeType',data=dataviz)\n",
    "plt.title('Type of home')"
   ]
  },
  {
   "cell_type": "code",
   "execution_count": 23,
   "metadata": {},
   "outputs": [
    {
     "data": {
      "text/plain": [
       "Text(0.5, 1.0, 'Type of home')"
      ]
     },
     "execution_count": 23,
     "metadata": {},
     "output_type": "execute_result"
    },
    {
     "data": {
      "image/png": "[encoded data removed]",
      "text/plain": [
       "<Figure size 432x288 with 1 Axes>"
      ]
     },
     "metadata": {
      "needs_background": "light"
     },
     "output_type": "display_data"
    }
   ],
   "source": [
    "sns.countplot(x='isNewConstruction',data=dataviz)\n",
    "plt.title('Type of home')"
   ]
  },
  {
   "cell_type": "markdown",
   "metadata": {},
   "source": [
    "### Prediction Model"
   ]
  },
  {
   "cell_type": "code",
   "execution_count": 24,
   "metadata": {},
   "outputs": [],
   "source": [
    "model = dataset.copy()"
   ]
  },
  {
   "cell_type": "code",
   "execution_count": 25,
   "metadata": {},
   "outputs": [
    {
     "name": "stdout",
     "output_type": "stream",
     "text": [
      "price                    1.000000\n",
      "lastSoldPrice            0.994587\n",
      "taxAssessedValue         0.862027\n",
      "livingArea               0.763574\n",
      "bathrooms                0.575752\n",
      "bedrooms                 0.433366\n",
      "interiorFeatures         0.414810\n",
      "avgSchoolsRating         0.402885\n",
      "roomArea                 0.375683\n",
      "parking                  0.337574\n",
      "roomFeatures             0.319637\n",
      "pricePerSquareFoot       0.291705\n",
      "hasFireplace             0.240815\n",
      "hasView                  0.235566\n",
      "hasSpa                   0.235288\n",
      "lotSize                  0.186732\n",
      "otherFeatures            0.178132\n",
      "hasCooling               0.160259\n",
      "avgSchoolsDistance       0.125437\n",
      "basement                 0.089460\n",
      "hasOpenParking           0.069280\n",
      "avgStudentsPerTeacher    0.013749\n",
      "yearBuilt                0.009674\n",
      "hasHomeWarranty          0.001955\n",
      "hasGarage                0.001066\n",
      "Unnamed: 0              -0.000998\n",
      "zipcode                 -0.010991\n",
      "hasLandLease            -0.014056\n",
      "fencing                 -0.033342\n",
      "postingIsRental         -0.039965\n",
      "carport                 -0.053166\n",
      "totalSchools            -0.054806\n",
      "avgSchoolsSize          -0.055664\n",
      "longitude               -0.085009\n",
      "daysOnZillow            -0.088992\n",
      "hasPetsAllowed          -0.096341\n",
      "latitude                -0.105175\n",
      "furnished                     NaN\n",
      "Name: price, dtype: float64\n"
     ]
    }
   ],
   "source": [
    "corr_matrix = model.corr()\n",
    "print(corr_matrix.price.sort_values(ascending=False))"
   ]
  },
  {
   "cell_type": "code",
   "execution_count": 26,
   "metadata": {},
   "outputs": [],
   "source": [
    "X = model[['taxAssessedValue','livingArea','bathrooms','bedrooms',\n",
    "         'interiorFeatures','avgSchoolsRating','roomArea',\n",
    "         'parking','roomFeatures']]\n",
    "y = model['price']"
   ]
  },
  {
   "cell_type": "code",
   "execution_count": 27,
   "metadata": {},
   "outputs": [],
   "source": [
    "from sklearn.model_selection import train_test_split\n",
    "from sklearn.metrics import accuracy_score,mean_squared_error,mean_absolute_error\n",
    "from sklearn.preprocessing import PolynomialFeatures, StandardScaler"
   ]
  },
  {
   "cell_type": "code",
   "execution_count": 28,
   "metadata": {},
   "outputs": [],
   "source": [
    "X_train, X_test, y_train, y_test = train_test_split(X, y, test_size=0.25, random_state=101)"
   ]
  },
  {
   "cell_type": "code",
   "execution_count": 29,
   "metadata": {},
   "outputs": [],
   "source": [
    "std = StandardScaler()"
   ]
  },
  {
   "cell_type": "code",
   "execution_count": 30,
   "metadata": {},
   "outputs": [],
   "source": [
    "X = std.fit_transform(X)"
   ]
  },
  {
   "cell_type": "markdown",
   "metadata": {},
   "source": [
    "#### Linear Regression"
   ]
  },
  {
   "cell_type": "code",
   "execution_count": 31,
   "metadata": {},
   "outputs": [],
   "source": [
    "from sklearn.linear_model import LinearRegression"
   ]
  },
  {
   "cell_type": "code",
   "execution_count": 32,
   "metadata": {},
   "outputs": [],
   "source": [
    "lr = LinearRegression()"
   ]
  },
  {
   "cell_type": "code",
   "execution_count": 33,
   "metadata": {},
   "outputs": [
    {
     "data": {
      "text/plain": [
       "LinearRegression()"
      ]
     },
     "execution_count": 33,
     "metadata": {},
     "output_type": "execute_result"
    }
   ],
   "source": [
    "lr.fit(X_train,y_train)"
   ]
  },
  {
   "cell_type": "code",
   "execution_count": 34,
   "metadata": {},
   "outputs": [],
   "source": [
    "pred_lr = lr.predict(X_test)\n",
    "score_lr = lr.score(X_train,y_train)"
   ]
  },
  {
   "cell_type": "code",
   "execution_count": 35,
   "metadata": {},
   "outputs": [
    {
     "name": "stdout",
     "output_type": "stream",
     "text": [
      "0.7808522434063256\n"
     ]
    }
   ],
   "source": [
    "print(score_lr)"
   ]
  },
  {
   "cell_type": "code",
   "execution_count": 36,
   "metadata": {},
   "outputs": [
    {
     "data": {
      "text/plain": [
       "0.7355065569630596"
      ]
     },
     "execution_count": 36,
     "metadata": {},
     "output_type": "execute_result"
    }
   ],
   "source": [
    "lr.coef_[0]"
   ]
  },
  {
   "cell_type": "code",
   "execution_count": 37,
   "metadata": {},
   "outputs": [
    {
     "data": {
      "text/plain": [
       "-24955.57719901367"
      ]
     },
     "execution_count": 37,
     "metadata": {},
     "output_type": "execute_result"
    }
   ],
   "source": [
    "lr.intercept_"
   ]
  },
  {
   "cell_type": "code",
   "execution_count": 38,
   "metadata": {},
   "outputs": [],
   "source": [
    "mae_lr = mean_absolute_error(y_test,pred_lr)\n",
    "mse_lr = mean_squared_error(y_test,pred_lr)\n",
    "rmse_lr = np.sqrt(mse_lr)"
   ]
  },
  {
   "cell_type": "code",
   "execution_count": 39,
   "metadata": {},
   "outputs": [
    {
     "name": "stdout",
     "output_type": "stream",
     "text": [
      "Mae_lr:  92090.9319124362\n",
      "Mse_lr:  29674277610.920494\n",
      "Rmse_lr:  172262.2350108128\n"
     ]
    }
   ],
   "source": [
    "print('Mae_lr: ',mae_lr)\n",
    "print('Mse_lr: ',mse_lr)\n",
    "print('Rmse_lr: ',rmse_lr)"
   ]
  },
  {
   "cell_type": "code",
   "execution_count": 40,
   "metadata": {},
   "outputs": [
    {
     "data": {
      "text/html": [
       "<div>\n",
       "<style scoped>\n",
       "    .dataframe tbody tr th:only-of-type {\n",
       "        vertical-align: middle;\n",
       "    }\n",
       "\n",
       "    .dataframe tbody tr th {\n",
       "        vertical-align: top;\n",
       "    }\n",
       "\n",
       "    .dataframe thead th {\n",
       "        text-align: right;\n",
       "    }\n",
       "</style>\n",
       "<table border=\"1\" class=\"dataframe\">\n",
       "  <thead>\n",
       "    <tr style=\"text-align: right;\">\n",
       "      <th></th>\n",
       "      <th>Price</th>\n",
       "      <th>Predictions</th>\n",
       "      <th>Error</th>\n",
       "      <th>Percentage_error</th>\n",
       "    </tr>\n",
       "  </thead>\n",
       "  <tbody>\n",
       "    <tr>\n",
       "      <th>0</th>\n",
       "      <td>315400</td>\n",
       "      <td>460395.839924</td>\n",
       "      <td>-144995.839924</td>\n",
       "      <td>45.972048</td>\n",
       "    </tr>\n",
       "    <tr>\n",
       "      <th>1</th>\n",
       "      <td>400000</td>\n",
       "      <td>473507.903473</td>\n",
       "      <td>-73507.903473</td>\n",
       "      <td>18.376976</td>\n",
       "    </tr>\n",
       "    <tr>\n",
       "      <th>2</th>\n",
       "      <td>512000</td>\n",
       "      <td>568329.785141</td>\n",
       "      <td>-56329.785141</td>\n",
       "      <td>11.001911</td>\n",
       "    </tr>\n",
       "    <tr>\n",
       "      <th>3</th>\n",
       "      <td>348000</td>\n",
       "      <td>377729.259592</td>\n",
       "      <td>-29729.259592</td>\n",
       "      <td>8.542891</td>\n",
       "    </tr>\n",
       "    <tr>\n",
       "      <th>4</th>\n",
       "      <td>510000</td>\n",
       "      <td>572986.443011</td>\n",
       "      <td>-62986.443011</td>\n",
       "      <td>12.350283</td>\n",
       "    </tr>\n",
       "  </tbody>\n",
       "</table>\n",
       "</div>"
      ],
      "text/plain": [
       "    Price    Predictions          Error  Percentage_error\n",
       "0  315400  460395.839924 -144995.839924         45.972048\n",
       "1  400000  473507.903473  -73507.903473         18.376976\n",
       "2  512000  568329.785141  -56329.785141         11.001911\n",
       "3  348000  377729.259592  -29729.259592          8.542891\n",
       "4  510000  572986.443011  -62986.443011         12.350283"
      ]
     },
     "execution_count": 40,
     "metadata": {},
     "output_type": "execute_result"
    }
   ],
   "source": [
    "preco_lr = df['price']\n",
    "predict_lr = pd.Series(pred_lr)\n",
    "error_lr = preco_lr-predict_lr\n",
    "data_lr = {'Price':preco_lr,'Predictions':predict_lr,'Error':error_lr}\n",
    "data_prev_lr = pd.DataFrame(data_lr)\n",
    "data_prev_lr['Percentage_error'] = np.abs(data_prev_lr['Error'])*100/data_prev_lr['Price']\n",
    "data_prev_lr.head()"
   ]
  },
  {
   "cell_type": "code",
   "execution_count": 41,
   "metadata": {},
   "outputs": [
    {
     "data": {
      "text/plain": [
       "[<matplotlib.lines.Line2D at 0x139da7f4370>]"
      ]
     },
     "execution_count": 41,
     "metadata": {},
     "output_type": "execute_result"
    },
    {
     "data": {
      "image/png": "[encoded data removed]",
      "text/plain": [
       "<Figure size 432x288 with 1 Axes>"
      ]
     },
     "metadata": {
      "needs_background": "light"
     },
     "output_type": "display_data"
    }
   ],
   "source": [
    "plt.scatter(y_test,pred_lr)\n",
    "plt.plot(y_test,y_test,color='red')"
   ]
  },
  {
   "cell_type": "markdown",
   "metadata": {},
   "source": [
    "#### RandomForest Regressor"
   ]
  },
  {
   "cell_type": "code",
   "execution_count": 42,
   "metadata": {},
   "outputs": [],
   "source": [
    "from sklearn.ensemble import RandomForestRegressor"
   ]
  },
  {
   "cell_type": "code",
   "execution_count": 43,
   "metadata": {},
   "outputs": [],
   "source": [
    "rfr = RandomForestRegressor(n_estimators=200)"
   ]
  },
  {
   "cell_type": "code",
   "execution_count": 44,
   "metadata": {},
   "outputs": [
    {
     "data": {
      "text/plain": [
       "RandomForestRegressor(n_estimators=200)"
      ]
     },
     "execution_count": 44,
     "metadata": {},
     "output_type": "execute_result"
    }
   ],
   "source": [
    "rfr.fit(X_train,y_train)"
   ]
  },
  {
   "cell_type": "code",
   "execution_count": 45,
   "metadata": {},
   "outputs": [],
   "source": [
    "score_rfr = rfr.score(X_train,y_train)\n",
    "prev_rfr = rfr.predict(X_test)\n",
    "mae_rfr = mean_absolute_error(y_test,prev_rfr)\n",
    "mse_rfr = mean_squared_error(y_test,prev_rfr)\n",
    "rmse_rfr = np.sqrt(mean_squared_error(y_test,prev_rfr))"
   ]
  },
  {
   "cell_type": "code",
   "execution_count": 46,
   "metadata": {},
   "outputs": [
    {
     "name": "stdout",
     "output_type": "stream",
     "text": [
      "Mae:  78868.43794369823\n",
      "Mse:  23269096869.667427\n",
      "Rmse:  152542.11506881446\n"
     ]
    }
   ],
   "source": [
    "print('Mae: ',mae_rfr)\n",
    "print('Mse: ',mse_rfr)\n",
    "print('Rmse: ',rmse_rfr)"
   ]
  },
  {
   "cell_type": "code",
   "execution_count": 47,
   "metadata": {},
   "outputs": [
    {
     "name": "stdout",
     "output_type": "stream",
     "text": [
      "0.9743836554516216\n"
     ]
    }
   ],
   "source": [
    "print(score_rfr)"
   ]
  },
  {
   "cell_type": "code",
   "execution_count": 48,
   "metadata": {},
   "outputs": [
    {
     "data": {
      "text/html": [
       "<div>\n",
       "<style scoped>\n",
       "    .dataframe tbody tr th:only-of-type {\n",
       "        vertical-align: middle;\n",
       "    }\n",
       "\n",
       "    .dataframe tbody tr th {\n",
       "        vertical-align: top;\n",
       "    }\n",
       "\n",
       "    .dataframe thead th {\n",
       "        text-align: right;\n",
       "    }\n",
       "</style>\n",
       "<table border=\"1\" class=\"dataframe\">\n",
       "  <thead>\n",
       "    <tr style=\"text-align: right;\">\n",
       "      <th></th>\n",
       "      <th>Price</th>\n",
       "      <th>Predictions</th>\n",
       "      <th>Error</th>\n",
       "      <th>Percentage_error</th>\n",
       "    </tr>\n",
       "  </thead>\n",
       "  <tbody>\n",
       "    <tr>\n",
       "      <th>0</th>\n",
       "      <td>315400</td>\n",
       "      <td>478231.245000</td>\n",
       "      <td>-162831.245000</td>\n",
       "      <td>51.626901</td>\n",
       "    </tr>\n",
       "    <tr>\n",
       "      <th>1</th>\n",
       "      <td>400000</td>\n",
       "      <td>433778.245000</td>\n",
       "      <td>-33778.245000</td>\n",
       "      <td>8.444561</td>\n",
       "    </tr>\n",
       "    <tr>\n",
       "      <th>2</th>\n",
       "      <td>512000</td>\n",
       "      <td>573950.925000</td>\n",
       "      <td>-61950.925000</td>\n",
       "      <td>12.099790</td>\n",
       "    </tr>\n",
       "    <tr>\n",
       "      <th>3</th>\n",
       "      <td>348000</td>\n",
       "      <td>554232.828333</td>\n",
       "      <td>-206232.828333</td>\n",
       "      <td>59.262307</td>\n",
       "    </tr>\n",
       "    <tr>\n",
       "      <th>4</th>\n",
       "      <td>510000</td>\n",
       "      <td>619851.800000</td>\n",
       "      <td>-109851.800000</td>\n",
       "      <td>21.539569</td>\n",
       "    </tr>\n",
       "  </tbody>\n",
       "</table>\n",
       "</div>"
      ],
      "text/plain": [
       "    Price    Predictions          Error  Percentage_error\n",
       "0  315400  478231.245000 -162831.245000         51.626901\n",
       "1  400000  433778.245000  -33778.245000          8.444561\n",
       "2  512000  573950.925000  -61950.925000         12.099790\n",
       "3  348000  554232.828333 -206232.828333         59.262307\n",
       "4  510000  619851.800000 -109851.800000         21.539569"
      ]
     },
     "execution_count": 48,
     "metadata": {},
     "output_type": "execute_result"
    }
   ],
   "source": [
    "preco_rfr = df['price']\n",
    "predict_rfr = pd.Series(prev_rfr)\n",
    "error_rfr = preco_rfr-predict_rfr\n",
    "data_rfr = {'Price':preco_rfr,'Predictions':predict_rfr,'Error':error_rfr}\n",
    "data_prev_rfr = pd.DataFrame(data_rfr)\n",
    "data_prev_rfr['Percentage_error'] = np.abs(data_prev_rfr['Error'])*100/data_prev_rfr['Price']\n",
    "data_prev_rfr.head()"
   ]
  },
  {
   "cell_type": "code",
   "execution_count": 49,
   "metadata": {
    "scrolled": true
   },
   "outputs": [
    {
     "data": {
      "text/plain": [
       "[<matplotlib.lines.Line2D at 0x139db438c40>]"
      ]
     },
     "execution_count": 49,
     "metadata": {},
     "output_type": "execute_result"
    },
    {
     "data": {
      "image/png": "[encoded data removed]",
      "text/plain": [
       "<Figure size 432x288 with 1 Axes>"
      ]
     },
     "metadata": {
      "needs_background": "light"
     },
     "output_type": "display_data"
    }
   ],
   "source": [
    "plt.scatter(y_test,prev_rfr)\n",
    "plt.plot(y_test,y_test,color='red')"
   ]
  },
  {
   "cell_type": "markdown",
   "metadata": {},
   "source": [
    "#### KNeighbors Regressor"
   ]
  },
  {
   "cell_type": "code",
   "execution_count": 50,
   "metadata": {},
   "outputs": [],
   "source": [
    "from sklearn.neighbors import KNeighborsRegressor"
   ]
  },
  {
   "cell_type": "code",
   "execution_count": 51,
   "metadata": {},
   "outputs": [],
   "source": [
    "knr = KNeighborsRegressor(n_neighbors = 10)"
   ]
  },
  {
   "cell_type": "code",
   "execution_count": 52,
   "metadata": {},
   "outputs": [
    {
     "data": {
      "text/plain": [
       "KNeighborsRegressor(n_neighbors=10)"
      ]
     },
     "execution_count": 52,
     "metadata": {},
     "output_type": "execute_result"
    }
   ],
   "source": [
    "knr.fit(X_train,y_train)"
   ]
  },
  {
   "cell_type": "code",
   "execution_count": 53,
   "metadata": {},
   "outputs": [],
   "source": [
    "score_knr = knr.score(X_train,y_train)"
   ]
  },
  {
   "cell_type": "code",
   "execution_count": 54,
   "metadata": {},
   "outputs": [
    {
     "name": "stdout",
     "output_type": "stream",
     "text": [
      "0.8244232987930834\n"
     ]
    }
   ],
   "source": [
    "print(score_knr)"
   ]
  },
  {
   "cell_type": "code",
   "execution_count": 55,
   "metadata": {},
   "outputs": [],
   "source": [
    "pred_knr = knr.predict(X_test)"
   ]
  },
  {
   "cell_type": "code",
   "execution_count": 56,
   "metadata": {},
   "outputs": [],
   "source": [
    "mae_knr = mean_absolute_error(y_test,pred_knr)\n",
    "mse_knr = mean_squared_error(y_test,pred_knr)\n",
    "rmse_knr = np.sqrt(mse_knr)"
   ]
  },
  {
   "cell_type": "code",
   "execution_count": 57,
   "metadata": {},
   "outputs": [
    {
     "name": "stdout",
     "output_type": "stream",
     "text": [
      "Mae_knr:  86129.16525321545\n",
      "Mse_knr:  30046880361.921387\n",
      "Rmse_knr:  173340.35987594287\n"
     ]
    }
   ],
   "source": [
    "print('Mae_knr: ',mae_knr)\n",
    "print('Mse_knr: ',mse_knr)\n",
    "print('Rmse_knr: ',rmse_knr)"
   ]
  },
  {
   "cell_type": "code",
   "execution_count": 58,
   "metadata": {},
   "outputs": [],
   "source": [
    "price_knr = df['price']\n",
    "predict_knr = pd.Series(pred_knr)\n",
    "error_knr = price_knr-predict_knr\n",
    "data_knr = {'Price':price_knr,'Predictions':predict_knr,'Error':error_knr}\n",
    "data_prev_knr = pd.DataFrame(data_knr)\n",
    "data_prev_knr['Percentage_error'] = np.abs(data_prev_knr['Error'])*100/data_prev_knr['Price']"
   ]
  },
  {
   "cell_type": "code",
   "execution_count": 59,
   "metadata": {},
   "outputs": [
    {
     "data": {
      "text/html": [
       "<div>\n",
       "<style scoped>\n",
       "    .dataframe tbody tr th:only-of-type {\n",
       "        vertical-align: middle;\n",
       "    }\n",
       "\n",
       "    .dataframe tbody tr th {\n",
       "        vertical-align: top;\n",
       "    }\n",
       "\n",
       "    .dataframe thead th {\n",
       "        text-align: right;\n",
       "    }\n",
       "</style>\n",
       "<table border=\"1\" class=\"dataframe\">\n",
       "  <thead>\n",
       "    <tr style=\"text-align: right;\">\n",
       "      <th></th>\n",
       "      <th>Price</th>\n",
       "      <th>Predictions</th>\n",
       "      <th>Error</th>\n",
       "      <th>Percentage_error</th>\n",
       "    </tr>\n",
       "  </thead>\n",
       "  <tbody>\n",
       "    <tr>\n",
       "      <th>0</th>\n",
       "      <td>315400</td>\n",
       "      <td>476675.0</td>\n",
       "      <td>-161275.0</td>\n",
       "      <td>51.133481</td>\n",
       "    </tr>\n",
       "    <tr>\n",
       "      <th>1</th>\n",
       "      <td>400000</td>\n",
       "      <td>453590.0</td>\n",
       "      <td>-53590.0</td>\n",
       "      <td>13.397500</td>\n",
       "    </tr>\n",
       "    <tr>\n",
       "      <th>2</th>\n",
       "      <td>512000</td>\n",
       "      <td>634390.0</td>\n",
       "      <td>-122390.0</td>\n",
       "      <td>23.904297</td>\n",
       "    </tr>\n",
       "    <tr>\n",
       "      <th>3</th>\n",
       "      <td>348000</td>\n",
       "      <td>520515.8</td>\n",
       "      <td>-172515.8</td>\n",
       "      <td>49.573506</td>\n",
       "    </tr>\n",
       "    <tr>\n",
       "      <th>4</th>\n",
       "      <td>510000</td>\n",
       "      <td>602315.0</td>\n",
       "      <td>-92315.0</td>\n",
       "      <td>18.100980</td>\n",
       "    </tr>\n",
       "  </tbody>\n",
       "</table>\n",
       "</div>"
      ],
      "text/plain": [
       "    Price  Predictions     Error  Percentage_error\n",
       "0  315400     476675.0 -161275.0         51.133481\n",
       "1  400000     453590.0  -53590.0         13.397500\n",
       "2  512000     634390.0 -122390.0         23.904297\n",
       "3  348000     520515.8 -172515.8         49.573506\n",
       "4  510000     602315.0  -92315.0         18.100980"
      ]
     },
     "execution_count": 59,
     "metadata": {},
     "output_type": "execute_result"
    }
   ],
   "source": [
    "data_prev_knr.head()"
   ]
  },
  {
   "cell_type": "code",
   "execution_count": 60,
   "metadata": {},
   "outputs": [
    {
     "data": {
      "text/plain": [
       "[<matplotlib.lines.Line2D at 0x139f6a889a0>]"
      ]
     },
     "execution_count": 60,
     "metadata": {},
     "output_type": "execute_result"
    },
    {
     "data": {
      "image/png": "[encoded data removed]",
      "text/plain": [
       "<Figure size 432x288 with 1 Axes>"
      ]
     },
     "metadata": {
      "needs_background": "light"
     },
     "output_type": "display_data"
    }
   ],
   "source": [
    "plt.scatter(y_test,pred_knr)\n",
    "plt.plot(y_test,y_test,color='red')"
   ]
  },
  {
   "cell_type": "code",
   "execution_count": null,
   "metadata": {},
   "outputs": [],
   "source": []
  }
 ],
 "metadata": {
  "kernelspec": {
   "display_name": "Python 3",
   "language": "python",
   "name": "python3"
  },
  "language_info": {
   "codemirror_mode": {
    "name": "ipython",
    "version": 3
   },
   "file_extension": ".py",
   "mimetype": "text/x-python",
   "name": "python",
   "nbconvert_exporter": "python",
   "pygments_lexer": "ipython3",
   "version": "3.8.5"
  }
 },
 "nbformat": 4,
 "nbformat_minor": 4
}
